{
 "cells": [
  {
   "cell_type": "markdown",
   "metadata": {},
   "source": [
    "**<span style=\"color:#023e8a;\">Name: MAHFUZATUL BUSHRA</span>**\n",
    "\n",
    "**<span style=\"color:#023e8a;\">Student ID: 22-92354-1</span>**\n",
    "\n",
    "Here I have designed a network that combines supervised and unsupervised architectures in one model to achieve a classification on CIFAR-10 datasets. So, for this I build a encoder model and this model compressed the image data and after decoder model decompressed the data and again this model reconstruct the original image. \n",
    "\n",
    "Another part of this notebook is to used the Pre-Training CNNs Using Convolutional Autoencoders to classify the image.\n"
   ]
  },
  {
   "cell_type": "markdown",
   "metadata": {},
   "source": [
    "**<span style=\"color:#023e8a;\">Import some necessary library.</span>**"
   ]
  },
  {
   "cell_type": "code",
   "execution_count": 1,
   "metadata": {},
   "outputs": [],
   "source": [
    "import tensorflow as tf\n",
    "from tensorflow.keras import datasets, layers, models\n",
    "import matplotlib.pyplot as plt\n",
    "import numpy as np"
   ]
  },
  {
   "cell_type": "code",
   "execution_count": 2,
   "metadata": {},
   "outputs": [
    {
     "name": "stderr",
     "output_type": "stream",
     "text": [
      "Using TensorFlow backend.\n"
     ]
    }
   ],
   "source": [
    "from keras import backend as K\n",
    "from keras.models import Sequential\n",
    "from keras.layers import Dense\n",
    "from keras.optimizers import Adam,SGD,Adagrad,Adadelta,RMSprop\n",
    "from keras.layers import Dropout, Flatten,Activation\n",
    "from keras.layers import Conv2D, MaxPooling2D, BatchNormalization, MaxPool2D\n",
    "from keras.preprocessing.image import ImageDataGenerator\n",
    "from keras.utils import to_categorical\n",
    "from sklearn.preprocessing import LabelEncoder\n",
    "from sklearn.model_selection import train_test_split\n",
    "from keras.callbacks import LearningRateScheduler"
   ]
  },
  {
   "cell_type": "markdown",
   "metadata": {},
   "source": [
    "### **<span style=\"color:#023e8a;\">Load the Datasets</span>**"
   ]
  },
  {
   "cell_type": "markdown",
   "metadata": {},
   "source": [
    "The **CIFAR10** dataset contains 60,000, 32×32 pixel color images in 10 classes, with 6,000 images in each class. The dataset is divided into 50,000 training images and 10,000 testing images. The classes are mutually exclusive and there is no overlap between them.\n",
    "\n",
    "The class labels and their standard associated integer values are listed below.\n",
    "\n",
    "* `0 --> **airplane**`\n",
    "* `1 --> **automobile**`\n",
    "* `2 --> **bird**`\n",
    "* `3 --> **cat**`\n",
    "* `4 --> **deer**`\n",
    "* `5 --> **dog**`\n",
    "* `6 --> **frog**`\n",
    "* `7 --> **horse**`\n",
    "* `8 --> **ship**`\n",
    "* `9 --> **truck**`"
   ]
  },
  {
   "cell_type": "markdown",
   "metadata": {},
   "source": [
    "### **<span style=\"color:#023e8a;\">Spliting Datasets into four parts 👀</span>**\n",
    "* `1. X_train`\n",
    "* `2. X_test`\n",
    "* `3. Y_train`\n",
    "* `4. Y_test`"
   ]
  },
  {
   "cell_type": "code",
   "execution_count": 3,
   "metadata": {},
   "outputs": [],
   "source": [
    "(X_train, Y_train), (X_test,Y_test) = datasets.cifar10.load_data()"
   ]
  },
  {
   "cell_type": "code",
   "execution_count": 4,
   "metadata": {},
   "outputs": [],
   "source": [
    "classes = [\"airplane\",\"automobile\",\"bird\",\"cat\",\"deer\",\"dog\",\"frog\",\"horse\",\"ship\",\"truck\"]\n",
    "num_classes = 10"
   ]
  },
  {
   "cell_type": "code",
   "execution_count": 5,
   "metadata": {},
   "outputs": [
    {
     "name": "stdout",
     "output_type": "stream",
     "text": [
      "train image shape: (50000, 32, 32, 3) test image shape: (10000, 32, 32, 3)\n",
      "50000 train samples\n",
      "10000 test samples\n"
     ]
    }
   ],
   "source": [
    "print('train image shape:',X_train.shape,'test image shape:',X_test.shape)\n",
    "print(X_train.shape[0], 'train samples')\n",
    "print(X_test.shape[0], 'test samples')"
   ]
  },
  {
   "cell_type": "markdown",
   "metadata": {},
   "source": [
    "### **<span style=\"color:#023e8a;\">Here we see there are 50000 training images and 1000 test images</span>**"
   ]
  },
  {
   "cell_type": "code",
   "execution_count": 6,
   "metadata": {},
   "outputs": [
    {
     "name": "stdout",
     "output_type": "stream",
     "text": [
      "Training class shape: (50000, 1) Testing class shape: (10000, 1)\n"
     ]
    }
   ],
   "source": [
    "print('Training class shape:',Y_train.shape,'Testing class shape:',Y_test.shape)"
   ]
  },
  {
   "cell_type": "code",
   "execution_count": 7,
   "metadata": {},
   "outputs": [
    {
     "data": {
      "image/png": "[encoded data removed]",
      "text/plain": [
       "<Figure size 1080x144 with 1 Axes>"
      ]
     },
     "metadata": {
      "needs_background": "light"
     },
     "output_type": "display_data"
    }
   ],
   "source": [
    "plt.figure(figsize = (15,2))\n",
    "plt.imshow(X_train[8])\n",
    "plt.xlabel(classes[8])\n",
    "plt.show()"
   ]
  },
  {
   "cell_type": "code",
   "execution_count": 8,
   "metadata": {},
   "outputs": [
    {
     "data": {
      "image/png": "[encoded data removed]",
      "text/plain": [
       "<Figure size 1080x144 with 1 Axes>"
      ]
     },
     "metadata": {
      "needs_background": "light"
     },
     "output_type": "display_data"
    }
   ],
   "source": [
    "plt.figure(figsize = (15,2))\n",
    "plt.imshow(X_train[7])\n",
    "plt.xlabel(classes[7])\n",
    "plt.show()"
   ]
  },
  {
   "cell_type": "markdown",
   "metadata": {},
   "source": [
    "* ##### It is clear that the images are indeed very small compared to modern photographs; it can be challenging to see what exactly is represented in some of the images given the extremely low resolution.This low resolution is likely the cause of the limited performance that top-of-the-line algorithms are able to achieve on the dataset."
   ]
  },
  {
   "cell_type": "code",
   "execution_count": 9,
   "metadata": {},
   "outputs": [
    {
     "data": {
      "text/plain": [
       "255"
      ]
     },
     "execution_count": 9,
     "metadata": {},
     "output_type": "execute_result"
    }
   ],
   "source": [
    "X_train.max()"
   ]
  },
  {
   "cell_type": "markdown",
   "metadata": {},
   "source": [
    "* ##### The max pixel value is 255 for each channel. Normalize the images to a number from 0 to 1. Image has 3 channels (R,G,B) and each value in the channel can range from 0 to 255. Hence to normalize in 0-->1 range, we need to divide it by 255"
   ]
  },
  {
   "cell_type": "markdown",
   "metadata": {},
   "source": [
    "### **<span style=\"color:#023e8a;\">Normalizing the training data</span>**"
   ]
  },
  {
   "cell_type": "code",
   "execution_count": 10,
   "metadata": {},
   "outputs": [],
   "source": [
    "X_train = X_train.astype('float32') / 255.\n",
    "X_test = X_test.astype('float32') / 255."
   ]
  },
  {
   "cell_type": "code",
   "execution_count": 11,
   "metadata": {},
   "outputs": [
    {
     "data": {
      "text/plain": [
       "array([0, 1, 2, 3, 4, 5, 6, 7, 8, 9], dtype=uint8)"
      ]
     },
     "execution_count": 11,
     "metadata": {},
     "output_type": "execute_result"
    }
   ],
   "source": [
    "y_train = Y_train.reshape(-1,)\n",
    "y_test = Y_test.reshape(-1,)\n",
    "np.unique(Y_train)"
   ]
  },
  {
   "cell_type": "code",
   "execution_count": 12,
   "metadata": {},
   "outputs": [],
   "source": [
    "#one-hot encoding\n",
    "total_classes=10\n",
    "y_train_en = to_categorical(y_train, total_classes)\n",
    "y_test_en = to_categorical(y_test, total_classes)"
   ]
  },
  {
   "cell_type": "markdown",
   "metadata": {},
   "source": [
    "* ##### Y_train,y_test is a 2D array, for our classification having 1D array is good enough. so I will convert this to now 1D array. We also know that there are 10 classes and that classes are represented as unique integers.\n",
    "\n"
   ]
  },
  {
   "cell_type": "markdown",
   "metadata": {},
   "source": [
    "### **<span style=\"color:#023e8a;\">Taking 50% of [\"bird\",\"deer\",\"truck\"] class in the training data.</span>**"
   ]
  },
  {
   "cell_type": "code",
   "execution_count": 13,
   "metadata": {},
   "outputs": [
    {
     "name": "stderr",
     "output_type": "stream",
     "text": [
      "2022-03-10 02:28:23.070452: I tensorflow/core/platform/cpu_feature_guard.cc:145] This TensorFlow binary is optimized with Intel(R) MKL-DNN to use the following CPU instructions in performance critical operations:  SSE4.1 SSE4.2 AVX AVX2 FMA\n",
      "To enable them in non-MKL-DNN operations, rebuild TensorFlow with the appropriate compiler flags.\n",
      "2022-03-10 02:28:23.070908: I tensorflow/core/common_runtime/process_util.cc:115] Creating new thread pool with default inter op setting: 8. Tune using inter_op_parallelism_threads for best performance.\n"
     ]
    }
   ],
   "source": [
    "model = models.Sequential()\n",
    "\n",
    "#Input Layer\n",
    "model.add(layers.Conv2D(32, (3, 3), activation='relu', input_shape = (32, 32, 3))) # Number of Neuron  =  32\n",
    "model.add(layers.MaxPool2D((2, 2)))\n",
    "\n",
    "\n",
    "#1st Hidden Layer\n",
    "model.add(layers.Conv2D(64, (3, 3), activation='relu')) # Number of Neuron  =  64\n",
    "model.add(layers.MaxPool2D((2, 2)))\n",
    "\n",
    "\n",
    "#2nd Hidden Layer\n",
    "model.add(layers.Conv2D(128, (3, 3), activation='relu')) # Number of Neuron  =  128\n",
    "model.add(layers.MaxPool2D((2, 2)))\n",
    "\n",
    "#bridge Layer\n",
    "model.add(layers.Flatten())\n",
    "\n",
    "\n",
    "#Output Layer\n",
    "model.add(layers.Dense(512, activation = 'relu')) # Number of Neuron  =  512\n",
    "model.add(layers.Dense(10, activation = 'softmax'))"
   ]
  },
  {
   "cell_type": "code",
   "execution_count": 14,
   "metadata": {},
   "outputs": [],
   "source": [
    "from keras.callbacks import EarlyStopping\n",
    "#To avoid overfitting early stopping is used\n",
    "earlystop = EarlyStopping(monitor = 'val_loss',\n",
    "                          min_delta = 0,\n",
    "                          patience = 2,\n",
    "                          verbose = 1,\n",
    "                          restore_best_weights = True)\n",
    "callbacks = [earlystop]"
   ]
  },
  {
   "cell_type": "code",
   "execution_count": 15,
   "metadata": {},
   "outputs": [
    {
     "name": "stdout",
     "output_type": "stream",
     "text": [
      "Train on 50000 samples, validate on 10000 samples\n",
      "Epoch 1/20\n",
      "50000/50000 [==============================] - 34s 673us/sample - loss: 2.2800 - accuracy: 0.1470 - val_loss: 2.2467 - val_accuracy: 0.1727\n",
      "Epoch 2/20\n",
      "50000/50000 [==============================] - 33s 655us/sample - loss: 2.1293 - accuracy: 0.2406 - val_loss: 2.0023 - val_accuracy: 0.2667\n",
      "Epoch 3/20\n",
      "50000/50000 [==============================] - 32s 649us/sample - loss: 1.9638 - accuracy: 0.2869 - val_loss: 1.8925 - val_accuracy: 0.3105\n",
      "Epoch 4/20\n",
      "50000/50000 [==============================] - 33s 652us/sample - loss: 1.8630 - accuracy: 0.3297 - val_loss: 1.9297 - val_accuracy: 0.2950\n",
      "Epoch 5/20\n",
      "50000/50000 [==============================] - 33s 650us/sample - loss: 1.7758 - accuracy: 0.3653 - val_loss: 1.7404 - val_accuracy: 0.3739\n",
      "Epoch 6/20\n",
      "50000/50000 [==============================] - 33s 652us/sample - loss: 1.6878 - accuracy: 0.3947 - val_loss: 1.7282 - val_accuracy: 0.3734\n",
      "Epoch 7/20\n",
      "50000/50000 [==============================] - 33s 652us/sample - loss: 1.6216 - accuracy: 0.4187 - val_loss: 1.6209 - val_accuracy: 0.4333\n",
      "Epoch 8/20\n",
      "50000/50000 [==============================] - 33s 654us/sample - loss: 1.5673 - accuracy: 0.4409 - val_loss: 1.5889 - val_accuracy: 0.4434\n",
      "Epoch 9/20\n",
      "50000/50000 [==============================] - 33s 658us/sample - loss: 1.5213 - accuracy: 0.4566 - val_loss: 1.6159 - val_accuracy: 0.4171\n",
      "Epoch 10/20\n",
      "50000/50000 [==============================] - 33s 662us/sample - loss: 1.4785 - accuracy: 0.4747 - val_loss: 1.5158 - val_accuracy: 0.4578\n",
      "Epoch 11/20\n",
      "50000/50000 [==============================] - 33s 655us/sample - loss: 1.4429 - accuracy: 0.4855 - val_loss: 1.4212 - val_accuracy: 0.4980\n",
      "Epoch 12/20\n",
      "50000/50000 [==============================] - 33s 659us/sample - loss: 1.4085 - accuracy: 0.4988 - val_loss: 1.4709 - val_accuracy: 0.4825\n",
      "Epoch 13/20\n",
      "50000/50000 [==============================] - 33s 660us/sample - loss: 1.3754 - accuracy: 0.5123 - val_loss: 1.3705 - val_accuracy: 0.5143\n",
      "Epoch 14/20\n",
      "50000/50000 [==============================] - 33s 664us/sample - loss: 1.3500 - accuracy: 0.5226 - val_loss: 1.3683 - val_accuracy: 0.5240\n",
      "Epoch 15/20\n",
      "50000/50000 [==============================] - 33s 661us/sample - loss: 1.3237 - accuracy: 0.5338 - val_loss: 1.3311 - val_accuracy: 0.5228\n",
      "Epoch 16/20\n",
      "50000/50000 [==============================] - 33s 659us/sample - loss: 1.2974 - accuracy: 0.5425 - val_loss: 1.3019 - val_accuracy: 0.5337\n",
      "Epoch 17/20\n",
      "50000/50000 [==============================] - 33s 656us/sample - loss: 1.2713 - accuracy: 0.5545 - val_loss: 1.2782 - val_accuracy: 0.5428\n",
      "Epoch 18/20\n",
      "50000/50000 [==============================] - 33s 669us/sample - loss: 1.2477 - accuracy: 0.5604 - val_loss: 1.2910 - val_accuracy: 0.5407\n",
      "Epoch 19/20\n",
      "49920/50000 [============================>.] - ETA: 0s - loss: 1.2239 - accuracy: 0.5705Restoring model weights from the end of the best epoch\n",
      "50000/50000 [==============================] - 33s 662us/sample - loss: 1.2239 - accuracy: 0.5704 - val_loss: 1.3139 - val_accuracy: 0.5295\n",
      "Epoch 00019: early stopping\n"
     ]
    }
   ],
   "source": [
    "model.compile(optimizer = 'sgd',\n",
    "             loss = 'categorical_crossentropy',\n",
    "             metrics = ['accuracy'])\n",
    "\n",
    "history=model.fit(X_train, y_train_en, batch_size=128, epochs=20, validation_data=(X_test, y_test_en),callbacks=callbacks)"
   ]
  },
  {
   "cell_type": "code",
   "execution_count": 16,
   "metadata": {},
   "outputs": [
    {
     "data": {
      "image/png": "[encoded data removed]",
      "text/plain": [
       "<Figure size 432x288 with 1 Axes>"
      ]
     },
     "metadata": {
      "needs_background": "light"
     },
     "output_type": "display_data"
    }
   ],
   "source": [
    "plt.plot(history.history['accuracy'])\n",
    "plt.plot(history.history['val_accuracy'])\n",
    "plt.title(\"Model Accuracy\")\n",
    "plt.xlabel(\"accuracy\")\n",
    "plt.ylabel('epochs')\n",
    "plt.tight_layout()\n",
    "plt.legend(['train', 'test'], loc = 'upper left')\n",
    "plt.show()"
   ]
  },
  {
   "cell_type": "code",
   "execution_count": 17,
   "metadata": {},
   "outputs": [
    {
     "data": {
      "image/png": "[encoded data removed]",
      "text/plain": [
       "<Figure size 432x288 with 1 Axes>"
      ]
     },
     "metadata": {
      "needs_background": "light"
     },
     "output_type": "display_data"
    }
   ],
   "source": [
    "plt.plot(history.history['loss'])\n",
    "plt.plot(history.history['val_loss'])\n",
    "plt.title(\"Model Loss\")\n",
    "plt.xlabel(\"Loss\")\n",
    "plt.ylabel('epochs')\n",
    "plt.tight_layout()\n",
    "plt.legend(['train', 'test'], loc = 'upper left')\n",
    "plt.show()"
   ]
  },
  {
   "cell_type": "code",
   "execution_count": null,
   "metadata": {},
   "outputs": [],
   "source": []
  }
 ],
 "metadata": {
  "kernelspec": {
   "display_name": "Python 3 (ipykernel)",
   "language": "python",
   "name": "python3"
  },
  "language_info": {
   "codemirror_mode": {
    "name": "ipython",
    "version": 3
   },
   "file_extension": ".py",
   "mimetype": "text/x-python",
   "name": "python",
   "nbconvert_exporter": "python",
   "pygments_lexer": "ipython3",
   "version": "3.7.11"
  }
 },
 "nbformat": 4,
 "nbformat_minor": 4
}
